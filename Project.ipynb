{
 "cells": [
  {
   "cell_type": "markdown",
   "id": "63c8a5e2",
   "metadata": {},
   "source": [
    "### Libraries"
   ]
  },
  {
   "cell_type": "code",
   "execution_count": 4,
   "id": "569403a9",
   "metadata": {},
   "outputs": [],
   "source": [
    "import pandas as pd\n",
    "import numpy as np\n",
    "import matplotlib.pyplot as plt\n",
    "import seaborn as sns\n",
    "import scipy.stats as stats"
   ]
  },
  {
   "cell_type": "markdown",
   "id": "12fcdef7",
   "metadata": {},
   "source": [
    "### Upload dataset and Exploratory Analysis"
   ]
  },
  {
   "cell_type": "code",
   "execution_count": 7,
   "id": "58cb0bea",
   "metadata": {},
   "outputs": [],
   "source": [
    "# PRA QUE ?\n",
    "np.random.seed(42)"
   ]
  },
  {
   "cell_type": "code",
   "execution_count": 15,
   "id": "f7d00c06",
   "metadata": {},
   "outputs": [],
   "source": [
    "df = pd.read_csv('dataset.csv')"
   ]
  },
  {
   "cell_type": "code",
   "execution_count": 16,
   "id": "780af384",
   "metadata": {},
   "outputs": [
    {
     "data": {
      "text/plain": [
       "(1000, 5)"
      ]
     },
     "execution_count": 16,
     "metadata": {},
     "output_type": "execute_result"
    }
   ],
   "source": [
    "df.shape"
   ]
  },
  {
   "cell_type": "code",
   "execution_count": 17,
   "id": "21e2259e",
   "metadata": {},
   "outputs": [
    {
     "data": {
      "text/html": [
       "<div>\n",
       "<style scoped>\n",
       "    .dataframe tbody tr th:only-of-type {\n",
       "        vertical-align: middle;\n",
       "    }\n",
       "\n",
       "    .dataframe tbody tr th {\n",
       "        vertical-align: top;\n",
       "    }\n",
       "\n",
       "    .dataframe thead th {\n",
       "        text-align: right;\n",
       "    }\n",
       "</style>\n",
       "<table border=\"1\" class=\"dataframe\">\n",
       "  <thead>\n",
       "    <tr style=\"text-align: right;\">\n",
       "      <th></th>\n",
       "      <th>user_id</th>\n",
       "      <th>group</th>\n",
       "      <th>latitude</th>\n",
       "      <th>longitude</th>\n",
       "      <th>conversion</th>\n",
       "    </tr>\n",
       "  </thead>\n",
       "  <tbody>\n",
       "    <tr>\n",
       "      <th>0</th>\n",
       "      <td>1</td>\n",
       "      <td>A</td>\n",
       "      <td>35.669109</td>\n",
       "      <td>6.869443</td>\n",
       "      <td>1</td>\n",
       "    </tr>\n",
       "    <tr>\n",
       "      <th>1</th>\n",
       "      <td>2</td>\n",
       "      <td>B</td>\n",
       "      <td>6.497346</td>\n",
       "      <td>-7.494524</td>\n",
       "      <td>1</td>\n",
       "    </tr>\n",
       "    <tr>\n",
       "      <th>2</th>\n",
       "      <td>3</td>\n",
       "      <td>A</td>\n",
       "      <td>-34.285029</td>\n",
       "      <td>-170.768856</td>\n",
       "      <td>0</td>\n",
       "    </tr>\n",
       "    <tr>\n",
       "      <th>3</th>\n",
       "      <td>4</td>\n",
       "      <td>A</td>\n",
       "      <td>56.483104</td>\n",
       "      <td>-57.150782</td>\n",
       "      <td>1</td>\n",
       "    </tr>\n",
       "    <tr>\n",
       "      <th>4</th>\n",
       "      <td>5</td>\n",
       "      <td>A</td>\n",
       "      <td>33.251611</td>\n",
       "      <td>-43.129577</td>\n",
       "      <td>0</td>\n",
       "    </tr>\n",
       "  </tbody>\n",
       "</table>\n",
       "</div>"
      ],
      "text/plain": [
       "   user_id group   latitude   longitude  conversion\n",
       "0        1     A  35.669109    6.869443           1\n",
       "1        2     B   6.497346   -7.494524           1\n",
       "2        3     A -34.285029 -170.768856           0\n",
       "3        4     A  56.483104  -57.150782           1\n",
       "4        5     A  33.251611  -43.129577           0"
      ]
     },
     "execution_count": 17,
     "metadata": {},
     "output_type": "execute_result"
    }
   ],
   "source": [
    "df.head()"
   ]
  },
  {
   "cell_type": "code",
   "execution_count": 20,
   "id": "9ef6410a",
   "metadata": {},
   "outputs": [
    {
     "name": "stdout",
     "output_type": "stream",
     "text": [
      "Conversion rates per group:\n",
      "group\n",
      "A    0.300000\n",
      "B    0.315686\n",
      "Name: conversion, dtype: float64\n"
     ]
    }
   ],
   "source": [
    "# Calculating conversion rate per group\n",
    "conversion_rate = df.groupby('group')['conversion'].mean()\n",
    "print(\"Conversion rates per group:\")\n",
    "print(conversion_rate)"
   ]
  },
  {
   "cell_type": "code",
   "execution_count": 21,
   "id": "ac5a4fc9",
   "metadata": {},
   "outputs": [],
   "source": [
    "# Divide groups:\n",
    "group_A = df[df['group'] == 'A']\n",
    "group_B = df[df['group'] == 'B']"
   ]
  },
  {
   "cell_type": "code",
   "execution_count": null,
   "id": "9d5f0e57",
   "metadata": {},
   "outputs": [],
   "source": [
    "# Calculating average conversion rates"
   ]
  },
  {
   "cell_type": "code",
   "execution_count": 22,
   "id": "37369268",
   "metadata": {},
   "outputs": [],
   "source": [
    "rate_conversion_A = group_A['conversion'].mean()\n",
    "rate_conversion_B = group_B['conversion'].mean()"
   ]
  },
  {
   "cell_type": "code",
   "execution_count": 23,
   "id": "f9e749cb",
   "metadata": {},
   "outputs": [
    {
     "data": {
      "text/plain": [
       "0.3"
      ]
     },
     "execution_count": 23,
     "metadata": {},
     "output_type": "execute_result"
    }
   ],
   "source": [
    "rate_conversion_A"
   ]
  },
  {
   "cell_type": "code",
   "execution_count": 24,
   "id": "0309eac8",
   "metadata": {
    "scrolled": true
   },
   "outputs": [
    {
     "data": {
      "text/plain": [
       "0.3156862745098039"
      ]
     },
     "execution_count": 24,
     "metadata": {},
     "output_type": "execute_result"
    }
   ],
   "source": [
    "rate_conversion_B"
   ]
  },
  {
   "cell_type": "markdown",
   "id": "b3c9a6fa",
   "metadata": {},
   "source": [
    "### Choosing the Appropriate Statistical Test\n",
    "\n",
    "To check if there is really a significant difference between the means of groups A and B, the Studant's T Test will be used, where:\n",
    "\n",
    "- Null Hypothesis (H0): There is no significant difference between the means of the groups.\n",
    "- Alternative Hypothesis (H1): There is a significant difference the means of the groups\n",
    "\n",
    "But, first apply Studant's T Test, we need to check:\n",
    "\n",
    "- Normality (I chose Shapiro-Wilk) \n",
    "- Independence of the Samples\n",
    "- Homogenity of Variances (or Homoscedasticity)\n"
   ]
  },
  {
   "cell_type": "markdown",
   "id": "40101c4f",
   "metadata": {},
   "source": [
    "### Checking Parametrics Test Assumptions"
   ]
  },
  {
   "cell_type": "markdown",
   "id": "6a21a34c",
   "metadata": {},
   "source": [
    "#### Normality Test"
   ]
  },
  {
   "cell_type": "code",
   "execution_count": 27,
   "id": "c7d957c1",
   "metadata": {},
   "outputs": [
    {
     "name": "stdout",
     "output_type": "stream",
     "text": [
      "Shapiro-Wilk Group A: ShapiroResult(statistic=0.5755486488342285, pvalue=8.305359092134899e-33)\n",
      "Shapiro-Wilk Group B: ShapiroResult(statistic=0.5851303339004517, pvalue=4.3921306840658264e-33)\n"
     ]
    }
   ],
   "source": [
    "# Shapiro-Wilk test\n",
    "shapiro_A = stats.shapiro(group_A['conversion'])\n",
    "shapiro_B = stats.shapiro(group_B['conversion'])\n",
    "print(f'Shapiro-Wilk Group A: {shapiro_A}')\n",
    "print(f'Shapiro-Wilk Group B: {shapiro_B}')"
   ]
  },
  {
   "cell_type": "markdown",
   "id": "35a7e69c",
   "metadata": {},
   "source": [
    "### Interpreting Results\n",
    "\n",
    "The interpretation of the results of the Shapiro-Wilk test for normality is based on the p-value obtained:\n",
    "\n",
    "Null Hypothesis (H0): The data are normally distributed.\n",
    "Alternative Hypothesis (H1): The data are not normally distributed.\n",
    "Interpretation of Results\n",
    "\n",
    "For both groups, A and B, we had very low results for the test statistic and extremely small p-values ​​(close to zero).\n",
    "\n",
    "#### Decision Making:\n",
    "\n",
    "If the p-value is less than α, we reject the null hypothesis.\n",
    "\n",
    "If the p-value is greater than or equal to α, we do not reject the null hypothesis.\n",
    "\n",
    "Results Obtained:\n",
    "\n",
    "- For Group A: p-value = 8.305264317902864e-33\n",
    "- For Group B: p-value = 4.392181009917721e-33\n",
    "\n",
    "Both p-values are significantly less than 0.05.\n",
    "\n",
    "#### Conclusion\n",
    "\n",
    "- For Group A, the p-value is significantly less than 0.05. This means that we reject the null hypothesis that the data is normally distributed. Therefore, the data from Group A is not normally distributed.\n",
    "\n",
    "- For Group B, the p-value is also significantly less than 0.05. This means that we reject the null hypothesis that the data is normally distributed. Therefore, the data from Group B is not normally distributed.\n",
    "\n",
    "#### Actions to Take\n",
    "\n",
    "Since the data from both groups are not normally distributed, the normality assumption for the Student's t-test is not met. In this case, you might consider the following steps:\n",
    "\n",
    "Data Transformation:\n",
    "\n",
    "- Try to transform the data to approximate a normal distribution (e.g., logarithmic transformations).\n",
    "\n",
    "Nonparametric Tests:\n",
    "\n",
    "- Use a nonparametric test that does not assume normality, such as the Mann-Whitney U test (also known as the Wilcoxon rank-sum test)."
   ]
  },
  {
   "cell_type": "markdown",
   "id": "63449e0c",
   "metadata": {},
   "source": [
    "### Applying Non-Parametric Test"
   ]
  },
  {
   "cell_type": "markdown",
   "id": "3479a996",
   "metadata": {},
   "source": [
    "Mann-Whitney U test will be use to compare two independent samples since normality assumptions of Studant's T test are not met. "
   ]
  },
  {
   "cell_type": "code",
   "execution_count": 28,
   "id": "6e258edc",
   "metadata": {},
   "outputs": [],
   "source": [
    "# Mann-Whitney U Test\n",
    "u_stat, p_val_mw = stats.mannwhitneyu(group_A['conversion'], group_B['conversion'])"
   ]
  },
  {
   "cell_type": "code",
   "execution_count": 30,
   "id": "3e886c94",
   "metadata": {},
   "outputs": [
    {
     "name": "stdout",
     "output_type": "stream",
     "text": [
      "Statistic U: 122990.0\n",
      "Valor p (Mann-Whitney): 0.5914621529131736\n"
     ]
    }
   ],
   "source": [
    "print(f'Statistic U: {u_stat}')\n",
    "print(f'Valor p (Mann-Whitney): {p_val_mw}')"
   ]
  },
  {
   "cell_type": "markdown",
   "id": "05478685",
   "metadata": {},
   "source": [
    "### Checking Results"
   ]
  },
  {
   "cell_type": "code",
   "execution_count": 32,
   "id": "3e347192",
   "metadata": {},
   "outputs": [
    {
     "name": "stdout",
     "output_type": "stream",
     "text": [
      "Don't reject null Hypothesis. There is no statiscally significant difference between groups A and B\n"
     ]
    }
   ],
   "source": [
    "alpha = 0.05\n",
    "if p_val_mw < alpha:\n",
    "    print(\"Reject null Hypothesis. Statiscally significant difference between groups A and B\")\n",
    "else:\n",
    "    print(\"Don't reject null Hypothesis. There is no statiscally significant difference between groups A and B\")"
   ]
  },
  {
   "cell_type": "markdown",
   "id": "3ce17c44",
   "metadata": {},
   "source": [
    "### Geographic Distribution of groups A and B"
   ]
  },
  {
   "cell_type": "code",
   "execution_count": 34,
   "id": "470aa7db",
   "metadata": {},
   "outputs": [
    {
     "data": {
      "image/png": "[encoded data removed]",
      "text/plain": [
       "<Figure size 640x480 with 1 Axes>"
      ]
     },
     "metadata": {},
     "output_type": "display_data"
    }
   ],
   "source": [
    "# Plot\n",
    "plt.scatter(group_A['longitude'], group_A['latitude'], c='blue', label='Group A')\n",
    "plt.scatter(group_B['longitude'], group_B['latitude'], c='red', label='Group B')\n",
    "plt.xlabel('Longitude')\n",
    "plt.ylabel('Latitude')\n",
    "plt.legend()\n",
    "plt.title('Geographic Distribution of groups A and B')\n",
    "plt.show()"
   ]
  },
  {
   "cell_type": "markdown",
   "id": "57a493bc",
   "metadata": {},
   "source": [
    "Based on the analysis of the data, we have no statistical evidence to state that geographic region has an influence on the average conversion rate in the data analyzed."
   ]
  }
 ],
 "metadata": {
  "kernelspec": {
   "display_name": "Python 3 (ipykernel)",
   "language": "python",
   "name": "python3"
  },
  "language_info": {
   "codemirror_mode": {
    "name": "ipython",
    "version": 3
   },
   "file_extension": ".py",
   "mimetype": "text/x-python",
   "name": "python",
   "nbconvert_exporter": "python",
   "pygments_lexer": "ipython3",
   "version": "3.9.13"
  }
 },
 "nbformat": 4,
 "nbformat_minor": 5
}
